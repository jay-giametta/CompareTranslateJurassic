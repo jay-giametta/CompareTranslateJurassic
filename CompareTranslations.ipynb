{
 "cells": [
  {
   "cell_type": "code",
   "execution_count": 2,
   "id": "10395a5a-27a7-45bc-94c9-92cf503d9361",
   "metadata": {
    "tags": []
   },
   "outputs": [],
   "source": [
    "#Import libraries\n",
    "import boto3\n",
    "import json\n",
    "import numpy"
   ]
  },
  {
   "cell_type": "code",
   "execution_count": 3,
   "id": "6bd780bf-6a02-4c59-b0d0-1ec22814e529",
   "metadata": {
    "tags": []
   },
   "outputs": [],
   "source": [
    "#Setup AWS services\n",
    "translate = boto3.client(\n",
    "    service_name='translate', \n",
    "    region_name='us-east-1', \n",
    "    use_ssl=True)\n",
    "\n",
    "bedrock_runtime = boto3.client(\n",
    "    service_name = 'bedrock-runtime', \n",
    "    region_name = 'us-east-1'\n",
    ")"
   ]
  },
  {
   "cell_type": "code",
   "execution_count": 4,
   "id": "46136efa-0038-4629-8c58-ee61e1976908",
   "metadata": {
    "tags": []
   },
   "outputs": [],
   "source": [
    "#Set the phrase that will be translated\n",
    "testPhrase = \"Take two ibuprofen for your headache four times a day.\""
   ]
  },
  {
   "cell_type": "code",
   "execution_count": 5,
   "id": "8bd17f2f-2247-4245-894f-1a6d05d6fdf0",
   "metadata": {
    "tags": []
   },
   "outputs": [],
   "source": [
    "#Translate to Spanish w/ Translate\n",
    "translateEsResult = translate.translate_text(\n",
    "    Text = testPhrase, \n",
    "    SourceLanguageCode = \"en\",\n",
    "    TargetLanguageCode = \"es-MX\").get('TranslatedText')"
   ]
  },
  {
   "cell_type": "code",
   "execution_count": 6,
   "id": "b7d5bf96-f7cc-49b2-b93e-bdce15e100a2",
   "metadata": {
    "tags": []
   },
   "outputs": [],
   "source": [
    "#Translate from Spanish back to English w/ Translate\n",
    "translateResult = translate.translate_text(\n",
    "    Text = translateEsResult, \n",
    "    SourceLanguageCode = \"es-MX\",\n",
    "    TargetLanguageCode = \"en\").get('TranslatedText')"
   ]
  },
  {
   "cell_type": "code",
   "execution_count": 7,
   "id": "82658d25-e72c-40a9-afd1-bbbd568eea78",
   "metadata": {
    "tags": []
   },
   "outputs": [],
   "source": [
    "#Translate to Spanish w/ Jurassic\n",
    "jurassicEsPrompt = \"Translate this phrase From English to Spanish \\(Mexican Dialect\\).\\n\" \\\n",
    "    + \"These are directions for medical discharge.\\n\" \\\n",
    "    + \"Translate as closely as possible.\\n\" \\\n",
    "    + \"Don't shorten or summarize\\n\" \\\n",
    "    + \"<phrase>\" + testPhrase + \"</phrase>\\n\"\n",
    "\n",
    "jurassicEsBody = json.dumps(P\n",
    "     \"prompt\": jurassicEsPrompt,\n",
    "     \"numResults\": 1,\n",
    "     \"maxTokens\": 200,\n",
    "     \"temperature\": 0,\n",
    "     \"topP\": 1\n",
    "})\n",
    "\n",
    "jurassicEsResponse = bedrock_runtime.invoke_model(\n",
    "    body = jurassicEsBody, \n",
    "    modelId = 'ai21.j2-ultra-v1', \n",
    "    accept = 'application/json', \n",
    "    contentType = 'application/json'\n",
    ")\n",
    "\n",
    "jurassicEsResponseBody = json.loads(jurassicEsResponse.get('body').read())\n",
    "jurassicEsResult = jurassicEsResponseBody.get('completions')[0].get('data').get('text')"
   ]
  },
  {
   "cell_type": "code",
   "execution_count": 8,
   "id": "2f2d8860-b3ee-4fe5-a1b5-3fea67e389b3",
   "metadata": {
    "tags": []
   },
   "outputs": [],
   "source": [
    "#Translate from Spanish back to English w/ Jurassic\n",
    "jurassicPrompt = \"Translate the phrase from Spanish \\(Mexican Dialect\\) to English.\\n\" \\\n",
    "    + \"These are directions for medical discharge.\\n\" \\\n",
    "    + \"Translate as closely as possible.\\n\" \\\n",
    "    + \"Don't shorten or summarize\\n\" \\\n",
    "    + \"<phrase>\" + jurassicEsResult + \"</phrase>\\n\"\n",
    "\n",
    "jurassicBody = json.dumps({\n",
    "     \"prompt\": jurassicPrompt,\n",
    "     \"numResults\": 1,\n",
    "     \"maxTokens\": 100,\n",
    "     \"temperature\": 0,\n",
    "     \"topP\": 1\n",
    "})\n",
    "\n",
    "jurassicResponse = bedrock_runtime.invoke_model(\n",
    "    body = jurassicBody, \n",
    "    modelId = 'ai21.j2-ultra-v1', \n",
    "    accept = 'application/json', \n",
    "    contentType = 'application/json'\n",
    ")\n",
    "\n",
    "jurassicResponseBody = json.loads(jurassicResponse.get('body').read())\n",
    "jurassicResult = jurassicResponseBody.get('completions')[0].get('data').get('text')"
   ]
  },
  {
   "cell_type": "code",
   "execution_count": 9,
   "id": "0daee249-85be-40f8-978d-4372b32a9959",
   "metadata": {
    "tags": []
   },
   "outputs": [],
   "source": [
    "#Encode results as JSON to be ingested by Titan Embeddings\n",
    "originalJson = json.dumps({\n",
    "    \"inputText\": testPhrase,\n",
    "})\n",
    "\n",
    "translateEsResultJson = json.dumps({\n",
    "    \"inputText\": translateEsResult,\n",
    "})\n",
    "\n",
    "translateResultJson = json.dumps({\n",
    "    \"inputText\": translateResult,\n",
    "})\n",
    "\n",
    "jurassicEsResultJson = json.dumps({\n",
    "    \"inputText\": jurassicEsResult,\n",
    "})\n",
    "\n",
    "jurassicResultJson = json.dumps({\n",
    "    \"inputText\": jurassicResult,\n",
    "})"
   ]
  },
  {
   "cell_type": "code",
   "execution_count": 10,
   "id": "23f43634-ec46-4f3d-bad6-7f56dbb5ba4d",
   "metadata": {
    "tags": []
   },
   "outputs": [],
   "source": [
    "#Create embeddings using Titan Embeddings\n",
    "originalEmbeddingResponse = bedrock_runtime.invoke_model(\n",
    "    body = originalJson, \n",
    "    modelId = 'amazon.titan-embed-text-v1', \n",
    "    accept = 'application/json', \n",
    "    contentType = 'application/json'\n",
    ")\n",
    "\n",
    "originalEmbeddingResponseBody = json.loads(originalEmbeddingResponse['body'].read())\n",
    "originalEmbedding = originalEmbeddingResponseBody.get('embedding')\n",
    "\n",
    "translateEsEmbeddingResponse = bedrock_runtime.invoke_model(\n",
    "    body = translateEsResultJson, \n",
    "    modelId = 'amazon.titan-embed-text-v1', \n",
    "    accept = 'application/json', \n",
    "    contentType = 'application/json'\n",
    ")\n",
    "\n",
    "translateEsEmbeddingResponseBody = json.loads(translateEsEmbeddingResponse['body'].read())\n",
    "translateEsEmbedding = translateEsEmbeddingResponseBody.get('embedding')\n",
    "\n",
    "translateEmbeddingResponse = bedrock_runtime.invoke_model(\n",
    "    body = translateResultJson, \n",
    "    modelId = 'amazon.titan-embed-text-v1', \n",
    "    accept = 'application/json', \n",
    "    contentType = 'application/json'\n",
    ")\n",
    "\n",
    "translateEmbeddingResponseBody = json.loads(translateEmbeddingResponse['body'].read())\n",
    "translateEmbedding = translateEmbeddingResponseBody.get('embedding')\n",
    "\n",
    "jurassicEsEmbeddingResponse = bedrock_runtime.invoke_model(\n",
    "    body = jurassicEsResultJson, \n",
    "    modelId = 'amazon.titan-embed-text-v1', \n",
    "    accept = 'application/json', \n",
    "    contentType = 'application/json'\n",
    ")\n",
    "\n",
    "jurassicEsEmbeddingResponseBody = json.loads(jurassicEsEmbeddingResponse['body'].read())\n",
    "jurassicEsEmbedding = jurassicEsEmbeddingResponseBody.get('embedding')\n",
    "\n",
    "jurassicEmbeddingResponse = bedrock_runtime.invoke_model(\n",
    "    body = jurassicResultJson, \n",
    "    modelId = 'amazon.titan-embed-text-v1', \n",
    "    accept = 'application/json', \n",
    "    contentType = 'application/json'\n",
    ")\n",
    "\n",
    "jurassicEmbeddingResponseBody = json.loads(jurassicEmbeddingResponse['body'].read())\n",
    "jurassicEmbedding = jurassicEmbeddingResponseBody.get('embedding')"
   ]
  },
  {
   "cell_type": "code",
   "execution_count": 11,
   "id": "b1e48030-2252-4bec-8c8c-de89af0cdc8b",
   "metadata": {
    "tags": []
   },
   "outputs": [],
   "source": [
    "#Calculate Euclidean distance between embeddings using NumPy\n",
    "translateEsDistance = numpy.linalg.norm (numpy.array(originalEmbedding) - numpy.array(translateEsEmbedding))\n",
    "translateDistance = numpy.linalg.norm (numpy.array(originalEmbedding) - numpy.array(translateEmbedding))\n",
    "\n",
    "jurassicEsDistance = numpy.linalg.norm (numpy.array(originalEmbedding) - numpy.array(jurassicEsEmbedding))\n",
    "jurassicDistance = numpy.linalg.norm (numpy.array(originalEmbedding) - numpy.array(jurassicEmbedding))"
   ]
  },
  {
   "cell_type": "code",
   "execution_count": 12,
   "id": "c68fd1ea-0afa-4c82-8317-2c1a09d7737e",
   "metadata": {},
   "outputs": [
    {
     "name": "stdout",
     "output_type": "stream",
     "text": [
      "Original English Phrase: Take two ibuprofen for your headache four times a day.\n",
      "\n",
      "Translate Spanish Result: Toma dos ibuprofeno para tu dolor de cabeza cuatro veces al día.\n",
      "Translate Spanish Euclidean Distance: 16.476930552973982\n",
      "\n",
      "Translate English Result: Take two ibuprofen for your headache four times a day.\n",
      "Translate English Euclidean Distance: 0.0\n",
      "\n",
      "Jurassic Spanish Result: Tome dos ibuprofenos para la fiebre cada 4 horas.\n",
      "Jurassic Spanish Euclidean Distance: 19.278216892141227\n",
      "\n",
      "Jurassic English Result: Take two ibuprofens every 4 hours for the fever.\n",
      "Jurassic English Euclidean Distance: 16.236830470293494\n"
     ]
    }
   ],
   "source": [
    "#Print results\n",
    "print(\"Original English Phrase: \" + testPhrase)\n",
    "\n",
    "print(\"\\nTranslate Spanish Result: \" + translateEsResult)\n",
    "print(\"Translate Spanish Euclidean Distance: \" + str(translateEsDistance))\n",
    "print(\"\\nTranslate English Result: \" + translateResult)\n",
    "print(\"Translate English Euclidean Distance: \" + str(translateDistance))\n",
    "\n",
    "print(\"\\nJurassic Spanish Result: \" + jurassicEsResult)\n",
    "print(\"Jurassic Spanish Euclidean Distance: \" + str(jurassicEsDistance))\n",
    "print(\"\\nJurassic English Result: \" + jurassicResult)\n",
    "print(\"Jurassic English Euclidean Distance: \" + str(jurassicDistance))"
   ]
  },
  {
   "cell_type": "code",
   "execution_count": null,
   "id": "56ea1c65-2eb6-4d85-81b8-3ec191fd056e",
   "metadata": {},
   "outputs": [],
   "source": []
  }
 ],
 "metadata": {
  "availableInstances": [
   {
    "_defaultOrder": 0,
    "_isFastLaunch": true,
    "category": "General purpose",
    "gpuNum": 0,
    "hideHardwareSpecs": false,
    "memoryGiB": 4,
    "name": "ml.t3.medium",
    "vcpuNum": 2
   },
   {
    "_defaultOrder": 1,
    "_isFastLaunch": false,
    "category": "General purpose",
    "gpuNum": 0,
    "hideHardwareSpecs": false,
    "memoryGiB": 8,
    "name": "ml.t3.large",
    "vcpuNum": 2
   },
   {
    "_defaultOrder": 2,
    "_isFastLaunch": false,
    "category": "General purpose",
    "gpuNum": 0,
    "hideHardwareSpecs": false,
    "memoryGiB": 16,
    "name": "ml.t3.xlarge",
    "vcpuNum": 4
   },
   {
    "_defaultOrder": 3,
    "_isFastLaunch": false,
    "category": "General purpose",
    "gpuNum": 0,
    "hideHardwareSpecs": false,
    "memoryGiB": 32,
    "name": "ml.t3.2xlarge",
    "vcpuNum": 8
   },
   {
    "_defaultOrder": 4,
    "_isFastLaunch": true,
    "category": "General purpose",
    "gpuNum": 0,
    "hideHardwareSpecs": false,
    "memoryGiB": 8,
    "name": "ml.m5.large",
    "vcpuNum": 2
   },
   {
    "_defaultOrder": 5,
    "_isFastLaunch": false,
    "category": "General purpose",
    "gpuNum": 0,
    "hideHardwareSpecs": false,
    "memoryGiB": 16,
    "name": "ml.m5.xlarge",
    "vcpuNum": 4
   },
   {
    "_defaultOrder": 6,
    "_isFastLaunch": false,
    "category": "General purpose",
    "gpuNum": 0,
    "hideHardwareSpecs": false,
    "memoryGiB": 32,
    "name": "ml.m5.2xlarge",
    "vcpuNum": 8
   },
   {
    "_defaultOrder": 7,
    "_isFastLaunch": false,
    "category": "General purpose",
    "gpuNum": 0,
    "hideHardwareSpecs": false,
    "memoryGiB": 64,
    "name": "ml.m5.4xlarge",
    "vcpuNum": 16
   },
   {
    "_defaultOrder": 8,
    "_isFastLaunch": false,
    "category": "General purpose",
    "gpuNum": 0,
    "hideHardwareSpecs": false,
    "memoryGiB": 128,
    "name": "ml.m5.8xlarge",
    "vcpuNum": 32
   },
   {
    "_defaultOrder": 9,
    "_isFastLaunch": false,
    "category": "General purpose",
    "gpuNum": 0,
    "hideHardwareSpecs": false,
    "memoryGiB": 192,
    "name": "ml.m5.12xlarge",
    "vcpuNum": 48
   },
   {
    "_defaultOrder": 10,
    "_isFastLaunch": false,
    "category": "General purpose",
    "gpuNum": 0,
    "hideHardwareSpecs": false,
    "memoryGiB": 256,
    "name": "ml.m5.16xlarge",
    "vcpuNum": 64
   },
   {
    "_defaultOrder": 11,
    "_isFastLaunch": false,
    "category": "General purpose",
    "gpuNum": 0,
    "hideHardwareSpecs": false,
    "memoryGiB": 384,
    "name": "ml.m5.24xlarge",
    "vcpuNum": 96
   },
   {
    "_defaultOrder": 12,
    "_isFastLaunch": false,
    "category": "General purpose",
    "gpuNum": 0,
    "hideHardwareSpecs": false,
    "memoryGiB": 8,
    "name": "ml.m5d.large",
    "vcpuNum": 2
   },
   {
    "_defaultOrder": 13,
    "_isFastLaunch": false,
    "category": "General purpose",
    "gpuNum": 0,
    "hideHardwareSpecs": false,
    "memoryGiB": 16,
    "name": "ml.m5d.xlarge",
    "vcpuNum": 4
   },
   {
    "_defaultOrder": 14,
    "_isFastLaunch": false,
    "category": "General purpose",
    "gpuNum": 0,
    "hideHardwareSpecs": false,
    "memoryGiB": 32,
    "name": "ml.m5d.2xlarge",
    "vcpuNum": 8
   },
   {
    "_defaultOrder": 15,
    "_isFastLaunch": false,
    "category": "General purpose",
    "gpuNum": 0,
    "hideHardwareSpecs": false,
    "memoryGiB": 64,
    "name": "ml.m5d.4xlarge",
    "vcpuNum": 16
   },
   {
    "_defaultOrder": 16,
    "_isFastLaunch": false,
    "category": "General purpose",
    "gpuNum": 0,
    "hideHardwareSpecs": false,
    "memoryGiB": 128,
    "name": "ml.m5d.8xlarge",
    "vcpuNum": 32
   },
   {
    "_defaultOrder": 17,
    "_isFastLaunch": false,
    "category": "General purpose",
    "gpuNum": 0,
    "hideHardwareSpecs": false,
    "memoryGiB": 192,
    "name": "ml.m5d.12xlarge",
    "vcpuNum": 48
   },
   {
    "_defaultOrder": 18,
    "_isFastLaunch": false,
    "category": "General purpose",
    "gpuNum": 0,
    "hideHardwareSpecs": false,
    "memoryGiB": 256,
    "name": "ml.m5d.16xlarge",
    "vcpuNum": 64
   },
   {
    "_defaultOrder": 19,
    "_isFastLaunch": false,
    "category": "General purpose",
    "gpuNum": 0,
    "hideHardwareSpecs": false,
    "memoryGiB": 384,
    "name": "ml.m5d.24xlarge",
    "vcpuNum": 96
   },
   {
    "_defaultOrder": 20,
    "_isFastLaunch": false,
    "category": "General purpose",
    "gpuNum": 0,
    "hideHardwareSpecs": true,
    "memoryGiB": 0,
    "name": "ml.geospatial.interactive",
    "supportedImageNames": [
     "sagemaker-geospatial-v1-0"
    ],
    "vcpuNum": 0
   },
   {
    "_defaultOrder": 21,
    "_isFastLaunch": true,
    "category": "Compute optimized",
    "gpuNum": 0,
    "hideHardwareSpecs": false,
    "memoryGiB": 4,
    "name": "ml.c5.large",
    "vcpuNum": 2
   },
   {
    "_defaultOrder": 22,
    "_isFastLaunch": false,
    "category": "Compute optimized",
    "gpuNum": 0,
    "hideHardwareSpecs": false,
    "memoryGiB": 8,
    "name": "ml.c5.xlarge",
    "vcpuNum": 4
   },
   {
    "_defaultOrder": 23,
    "_isFastLaunch": false,
    "category": "Compute optimized",
    "gpuNum": 0,
    "hideHardwareSpecs": false,
    "memoryGiB": 16,
    "name": "ml.c5.2xlarge",
    "vcpuNum": 8
   },
   {
    "_defaultOrder": 24,
    "_isFastLaunch": false,
    "category": "Compute optimized",
    "gpuNum": 0,
    "hideHardwareSpecs": false,
    "memoryGiB": 32,
    "name": "ml.c5.4xlarge",
    "vcpuNum": 16
   },
   {
    "_defaultOrder": 25,
    "_isFastLaunch": false,
    "category": "Compute optimized",
    "gpuNum": 0,
    "hideHardwareSpecs": false,
    "memoryGiB": 72,
    "name": "ml.c5.9xlarge",
    "vcpuNum": 36
   },
   {
    "_defaultOrder": 26,
    "_isFastLaunch": false,
    "category": "Compute optimized",
    "gpuNum": 0,
    "hideHardwareSpecs": false,
    "memoryGiB": 96,
    "name": "ml.c5.12xlarge",
    "vcpuNum": 48
   },
   {
    "_defaultOrder": 27,
    "_isFastLaunch": false,
    "category": "Compute optimized",
    "gpuNum": 0,
    "hideHardwareSpecs": false,
    "memoryGiB": 144,
    "name": "ml.c5.18xlarge",
    "vcpuNum": 72
   },
   {
    "_defaultOrder": 28,
    "_isFastLaunch": false,
    "category": "Compute optimized",
    "gpuNum": 0,
    "hideHardwareSpecs": false,
    "memoryGiB": 192,
    "name": "ml.c5.24xlarge",
    "vcpuNum": 96
   },
   {
    "_defaultOrder": 29,
    "_isFastLaunch": true,
    "category": "Accelerated computing",
    "gpuNum": 1,
    "hideHardwareSpecs": false,
    "memoryGiB": 16,
    "name": "ml.g4dn.xlarge",
    "vcpuNum": 4
   },
   {
    "_defaultOrder": 30,
    "_isFastLaunch": false,
    "category": "Accelerated computing",
    "gpuNum": 1,
    "hideHardwareSpecs": false,
    "memoryGiB": 32,
    "name": "ml.g4dn.2xlarge",
    "vcpuNum": 8
   },
   {
    "_defaultOrder": 31,
    "_isFastLaunch": false,
    "category": "Accelerated computing",
    "gpuNum": 1,
    "hideHardwareSpecs": false,
    "memoryGiB": 64,
    "name": "ml.g4dn.4xlarge",
    "vcpuNum": 16
   },
   {
    "_defaultOrder": 32,
    "_isFastLaunch": false,
    "category": "Accelerated computing",
    "gpuNum": 1,
    "hideHardwareSpecs": false,
    "memoryGiB": 128,
    "name": "ml.g4dn.8xlarge",
    "vcpuNum": 32
   },
   {
    "_defaultOrder": 33,
    "_isFastLaunch": false,
    "category": "Accelerated computing",
    "gpuNum": 4,
    "hideHardwareSpecs": false,
    "memoryGiB": 192,
    "name": "ml.g4dn.12xlarge",
    "vcpuNum": 48
   },
   {
    "_defaultOrder": 34,
    "_isFastLaunch": false,
    "category": "Accelerated computing",
    "gpuNum": 1,
    "hideHardwareSpecs": false,
    "memoryGiB": 256,
    "name": "ml.g4dn.16xlarge",
    "vcpuNum": 64
   },
   {
    "_defaultOrder": 35,
    "_isFastLaunch": false,
    "category": "Accelerated computing",
    "gpuNum": 1,
    "hideHardwareSpecs": false,
    "memoryGiB": 61,
    "name": "ml.p3.2xlarge",
    "vcpuNum": 8
   },
   {
    "_defaultOrder": 36,
    "_isFastLaunch": false,
    "category": "Accelerated computing",
    "gpuNum": 4,
    "hideHardwareSpecs": false,
    "memoryGiB": 244,
    "name": "ml.p3.8xlarge",
    "vcpuNum": 32
   },
   {
    "_defaultOrder": 37,
    "_isFastLaunch": false,
    "category": "Accelerated computing",
    "gpuNum": 8,
    "hideHardwareSpecs": false,
    "memoryGiB": 488,
    "name": "ml.p3.16xlarge",
    "vcpuNum": 64
   },
   {
    "_defaultOrder": 38,
    "_isFastLaunch": false,
    "category": "Accelerated computing",
    "gpuNum": 8,
    "hideHardwareSpecs": false,
    "memoryGiB": 768,
    "name": "ml.p3dn.24xlarge",
    "vcpuNum": 96
   },
   {
    "_defaultOrder": 39,
    "_isFastLaunch": false,
    "category": "Memory Optimized",
    "gpuNum": 0,
    "hideHardwareSpecs": false,
    "memoryGiB": 16,
    "name": "ml.r5.large",
    "vcpuNum": 2
   },
   {
    "_defaultOrder": 40,
    "_isFastLaunch": false,
    "category": "Memory Optimized",
    "gpuNum": 0,
    "hideHardwareSpecs": false,
    "memoryGiB": 32,
    "name": "ml.r5.xlarge",
    "vcpuNum": 4
   },
   {
    "_defaultOrder": 41,
    "_isFastLaunch": false,
    "category": "Memory Optimized",
    "gpuNum": 0,
    "hideHardwareSpecs": false,
    "memoryGiB": 64,
    "name": "ml.r5.2xlarge",
    "vcpuNum": 8
   },
   {
    "_defaultOrder": 42,
    "_isFastLaunch": false,
    "category": "Memory Optimized",
    "gpuNum": 0,
    "hideHardwareSpecs": false,
    "memoryGiB": 128,
    "name": "ml.r5.4xlarge",
    "vcpuNum": 16
   },
   {
    "_defaultOrder": 43,
    "_isFastLaunch": false,
    "category": "Memory Optimized",
    "gpuNum": 0,
    "hideHardwareSpecs": false,
    "memoryGiB": 256,
    "name": "ml.r5.8xlarge",
    "vcpuNum": 32
   },
   {
    "_defaultOrder": 44,
    "_isFastLaunch": false,
    "category": "Memory Optimized",
    "gpuNum": 0,
    "hideHardwareSpecs": false,
    "memoryGiB": 384,
    "name": "ml.r5.12xlarge",
    "vcpuNum": 48
   },
   {
    "_defaultOrder": 45,
    "_isFastLaunch": false,
    "category": "Memory Optimized",
    "gpuNum": 0,
    "hideHardwareSpecs": false,
    "memoryGiB": 512,
    "name": "ml.r5.16xlarge",
    "vcpuNum": 64
   },
   {
    "_defaultOrder": 46,
    "_isFastLaunch": false,
    "category": "Memory Optimized",
    "gpuNum": 0,
    "hideHardwareSpecs": false,
    "memoryGiB": 768,
    "name": "ml.r5.24xlarge",
    "vcpuNum": 96
   },
   {
    "_defaultOrder": 47,
    "_isFastLaunch": false,
    "category": "Accelerated computing",
    "gpuNum": 1,
    "hideHardwareSpecs": false,
    "memoryGiB": 16,
    "name": "ml.g5.xlarge",
    "vcpuNum": 4
   },
   {
    "_defaultOrder": 48,
    "_isFastLaunch": false,
    "category": "Accelerated computing",
    "gpuNum": 1,
    "hideHardwareSpecs": false,
    "memoryGiB": 32,
    "name": "ml.g5.2xlarge",
    "vcpuNum": 8
   },
   {
    "_defaultOrder": 49,
    "_isFastLaunch": false,
    "category": "Accelerated computing",
    "gpuNum": 1,
    "hideHardwareSpecs": false,
    "memoryGiB": 64,
    "name": "ml.g5.4xlarge",
    "vcpuNum": 16
   },
   {
    "_defaultOrder": 50,
    "_isFastLaunch": false,
    "category": "Accelerated computing",
    "gpuNum": 1,
    "hideHardwareSpecs": false,
    "memoryGiB": 128,
    "name": "ml.g5.8xlarge",
    "vcpuNum": 32
   },
   {
    "_defaultOrder": 51,
    "_isFastLaunch": false,
    "category": "Accelerated computing",
    "gpuNum": 1,
    "hideHardwareSpecs": false,
    "memoryGiB": 256,
    "name": "ml.g5.16xlarge",
    "vcpuNum": 64
   },
   {
    "_defaultOrder": 52,
    "_isFastLaunch": false,
    "category": "Accelerated computing",
    "gpuNum": 4,
    "hideHardwareSpecs": false,
    "memoryGiB": 192,
    "name": "ml.g5.12xlarge",
    "vcpuNum": 48
   },
   {
    "_defaultOrder": 53,
    "_isFastLaunch": false,
    "category": "Accelerated computing",
    "gpuNum": 4,
    "hideHardwareSpecs": false,
    "memoryGiB": 384,
    "name": "ml.g5.24xlarge",
    "vcpuNum": 96
   },
   {
    "_defaultOrder": 54,
    "_isFastLaunch": false,
    "category": "Accelerated computing",
    "gpuNum": 8,
    "hideHardwareSpecs": false,
    "memoryGiB": 768,
    "name": "ml.g5.48xlarge",
    "vcpuNum": 192
   },
   {
    "_defaultOrder": 55,
    "_isFastLaunch": false,
    "category": "Accelerated computing",
    "gpuNum": 8,
    "hideHardwareSpecs": false,
    "memoryGiB": 1152,
    "name": "ml.p4d.24xlarge",
    "vcpuNum": 96
   },
   {
    "_defaultOrder": 56,
    "_isFastLaunch": false,
    "category": "Accelerated computing",
    "gpuNum": 8,
    "hideHardwareSpecs": false,
    "memoryGiB": 1152,
    "name": "ml.p4de.24xlarge",
    "vcpuNum": 96
   }
  ],
  "instance_type": "ml.t3.medium",
  "kernelspec": {
   "display_name": "Python 3 (Data Science 3.0)",
   "language": "python",
   "name": "python3__SAGEMAKER_INTERNAL__arn:aws:sagemaker:us-east-1:081325390199:image/sagemaker-data-science-310-v1"
  },
  "language_info": {
   "codemirror_mode": {
    "name": "ipython",
    "version": 3
   },
   "file_extension": ".py",
   "mimetype": "text/x-python",
   "name": "python",
   "nbconvert_exporter": "python",
   "pygments_lexer": "ipython3",
   "version": "3.10.6"
  }
 },
 "nbformat": 4,
 "nbformat_minor": 5
}
